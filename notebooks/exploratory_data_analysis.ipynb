{
 "cells": [
  {
   "cell_type": "markdown",
   "id": "e9633534",
   "metadata": {},
   "source": [
    "# 🧪 Exploratory Data Analysis - Medical Diagnostic System"
   ]
  },
  {
   "cell_type": "code",
   "execution_count": null,
   "id": "bbb702da",
   "metadata": {},
   "outputs": [],
   "source": [
    "import pandas as pd\n",
    "import matplotlib.pyplot as plt\n",
    "import seaborn as sns\n",
    "import os\n",
    "from PIL import Image\n",
    "import numpy as np\n",
    "\n",
    "%matplotlib inline\n",
    "sns.set(style=\"whitegrid\")\n"
   ]
  },
  {
   "cell_type": "markdown",
   "id": "11fd1c6c",
   "metadata": {},
   "source": [
    "## 🔍 Dataset Overview"
   ]
  },
  {
   "cell_type": "code",
   "execution_count": null,
   "id": "08509b80",
   "metadata": {},
   "outputs": [],
   "source": [
    "# Sample path structure (update with your own path)\n",
    "image_folder = './data/train/NORMAL'\n",
    "\n",
    "# Count number of files\n",
    "normal_files = os.listdir(image_folder)\n",
    "print(f\"Number of NORMAL images: {len(normal_files)}\")\n",
    "\n",
    "# Show a few images\n",
    "fig, axs = plt.subplots(1, 5, figsize=(15,3))\n",
    "for i, file in enumerate(normal_files[:5]):\n",
    "    img = Image.open(os.path.join(image_folder, file))\n",
    "    axs[i].imshow(img, cmap='gray')\n",
    "    axs[i].axis('off')\n",
    "plt.suptitle(\"Sample NORMAL Images\")\n",
    "plt.show()\n"
   ]
  },
  {
   "cell_type": "markdown",
   "id": "24b2ffeb",
   "metadata": {},
   "source": [
    "## 📊 Class Distribution"
   ]
  },
  {
   "cell_type": "code",
   "execution_count": null,
   "id": "25276305",
   "metadata": {},
   "outputs": [],
   "source": [
    "# Assuming data is structured as ./data/train/NORMAL and ./data/train/PNEUMONIA\n",
    "data_dir = './data/train'\n",
    "class_counts = {cls: len(os.listdir(os.path.join(data_dir, cls))) for cls in os.listdir(data_dir)}\n",
    "sns.barplot(x=list(class_counts.keys()), y=list(class_counts.values()))\n",
    "plt.title(\"Image Count per Class\")\n",
    "plt.ylabel(\"Number of Images\")\n",
    "plt.show()\n"
   ]
  },
  {
   "cell_type": "markdown",
   "id": "34aabd50",
   "metadata": {},
   "source": [
    "## 🖼 Image Dimension Analysis"
   ]
  },
  {
   "cell_type": "code",
   "execution_count": null,
   "id": "59522931",
   "metadata": {},
   "outputs": [],
   "source": [
    "dims = []\n",
    "for cls in os.listdir(data_dir):\n",
    "    files = os.listdir(os.path.join(data_dir, cls))\n",
    "    for file in files[:100]:  # Sample 100 images per class\n",
    "        img = Image.open(os.path.join(data_dir, cls, file))\n",
    "        dims.append(img.size)\n",
    "\n",
    "dims_df = pd.DataFrame(dims, columns=[\"Width\", \"Height\"])\n",
    "sns.histplot(dims_df[\"Width\"], bins=20, kde=True, color=\"skyblue\")\n",
    "sns.histplot(dims_df[\"Height\"], bins=20, kde=True, color=\"salmon\")\n",
    "plt.title(\"Distribution of Image Dimensions\")\n",
    "plt.show()\n"
   ]
  }
 ],
 "metadata": {},
 "nbformat": 4,
 "nbformat_minor": 5
}
